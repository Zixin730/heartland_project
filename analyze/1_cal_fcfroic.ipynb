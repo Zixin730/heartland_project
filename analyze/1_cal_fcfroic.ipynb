{
 "cells": [
  {
   "cell_type": "code",
   "execution_count": 1,
   "metadata": {},
   "outputs": [],
   "source": [
    "import pandas as pd\n",
    "import numpy as np\n",
    "import matplotlib.pyplot as plt\n",
    "from scipy import stats\n",
    "from datetime import datetime\n",
    "from statsmodels.regression.rolling import RollingOLS"
   ]
  },
  {
   "cell_type": "markdown",
   "metadata": {},
   "source": [
    "# Data"
   ]
  },
  {
   "cell_type": "code",
   "execution_count": 12,
   "metadata": {},
   "outputs": [
    {
     "data": {
      "text/html": [
       "<div>\n",
       "<style scoped>\n",
       "    .dataframe tbody tr th:only-of-type {\n",
       "        vertical-align: middle;\n",
       "    }\n",
       "\n",
       "    .dataframe tbody tr th {\n",
       "        vertical-align: top;\n",
       "    }\n",
       "\n",
       "    .dataframe thead th {\n",
       "        text-align: right;\n",
       "    }\n",
       "</style>\n",
       "<table border=\"1\" class=\"dataframe\">\n",
       "  <thead>\n",
       "    <tr style=\"text-align: right;\">\n",
       "      <th></th>\n",
       "      <th>Global Company Key</th>\n",
       "      <th>Data Date</th>\n",
       "      <th>Fiscal Year</th>\n",
       "      <th>Fiscal Quarter</th>\n",
       "      <th>Fiscal Year-end Month</th>\n",
       "      <th>Industry Format</th>\n",
       "      <th>Level of Consolidation - Company Interim Descriptor</th>\n",
       "      <th>Population Source</th>\n",
       "      <th>Data Format</th>\n",
       "      <th>Ticker Symbol</th>\n",
       "      <th>...</th>\n",
       "      <th>Calendar Data Year and Quarter</th>\n",
       "      <th>Fiscal Data Year and Quarter</th>\n",
       "      <th>Assets - Total</th>\n",
       "      <th>Invested Capital - Total - Quarterly</th>\n",
       "      <th>Net Income (Loss)</th>\n",
       "      <th>Stockholders Equity - Total</th>\n",
       "      <th>Capital Expenditures</th>\n",
       "      <th>Operating Activities - Net Cash Flow</th>\n",
       "      <th>Active/Inactive Status Marker</th>\n",
       "      <th>Standard Industry Classification Code</th>\n",
       "    </tr>\n",
       "  </thead>\n",
       "  <tbody>\n",
       "    <tr>\n",
       "      <th>0</th>\n",
       "      <td>1045</td>\n",
       "      <td>1963-03-31</td>\n",
       "      <td>1963</td>\n",
       "      <td>1.0</td>\n",
       "      <td>12</td>\n",
       "      <td>INDL</td>\n",
       "      <td>C</td>\n",
       "      <td>D</td>\n",
       "      <td>STD</td>\n",
       "      <td>AAL</td>\n",
       "      <td>...</td>\n",
       "      <td>1963Q1</td>\n",
       "      <td>1963Q1</td>\n",
       "      <td>NaN</td>\n",
       "      <td>NaN</td>\n",
       "      <td>NaN</td>\n",
       "      <td>NaN</td>\n",
       "      <td>NaN</td>\n",
       "      <td>NaN</td>\n",
       "      <td>A</td>\n",
       "      <td>4512</td>\n",
       "    </tr>\n",
       "    <tr>\n",
       "      <th>1</th>\n",
       "      <td>1045</td>\n",
       "      <td>1963-06-30</td>\n",
       "      <td>1963</td>\n",
       "      <td>2.0</td>\n",
       "      <td>12</td>\n",
       "      <td>INDL</td>\n",
       "      <td>C</td>\n",
       "      <td>D</td>\n",
       "      <td>STD</td>\n",
       "      <td>AAL</td>\n",
       "      <td>...</td>\n",
       "      <td>1963Q2</td>\n",
       "      <td>1963Q2</td>\n",
       "      <td>NaN</td>\n",
       "      <td>NaN</td>\n",
       "      <td>NaN</td>\n",
       "      <td>NaN</td>\n",
       "      <td>NaN</td>\n",
       "      <td>NaN</td>\n",
       "      <td>A</td>\n",
       "      <td>4512</td>\n",
       "    </tr>\n",
       "    <tr>\n",
       "      <th>2</th>\n",
       "      <td>1045</td>\n",
       "      <td>1963-09-30</td>\n",
       "      <td>1963</td>\n",
       "      <td>3.0</td>\n",
       "      <td>12</td>\n",
       "      <td>INDL</td>\n",
       "      <td>C</td>\n",
       "      <td>D</td>\n",
       "      <td>STD</td>\n",
       "      <td>AAL</td>\n",
       "      <td>...</td>\n",
       "      <td>1963Q3</td>\n",
       "      <td>1963Q3</td>\n",
       "      <td>NaN</td>\n",
       "      <td>NaN</td>\n",
       "      <td>NaN</td>\n",
       "      <td>NaN</td>\n",
       "      <td>NaN</td>\n",
       "      <td>NaN</td>\n",
       "      <td>A</td>\n",
       "      <td>4512</td>\n",
       "    </tr>\n",
       "    <tr>\n",
       "      <th>3</th>\n",
       "      <td>1045</td>\n",
       "      <td>1963-12-31</td>\n",
       "      <td>1963</td>\n",
       "      <td>4.0</td>\n",
       "      <td>12</td>\n",
       "      <td>INDL</td>\n",
       "      <td>C</td>\n",
       "      <td>D</td>\n",
       "      <td>STD</td>\n",
       "      <td>AAL</td>\n",
       "      <td>...</td>\n",
       "      <td>1963Q4</td>\n",
       "      <td>1963Q4</td>\n",
       "      <td>NaN</td>\n",
       "      <td>NaN</td>\n",
       "      <td>NaN</td>\n",
       "      <td>NaN</td>\n",
       "      <td>NaN</td>\n",
       "      <td>NaN</td>\n",
       "      <td>A</td>\n",
       "      <td>4512</td>\n",
       "    </tr>\n",
       "    <tr>\n",
       "      <th>4</th>\n",
       "      <td>1045</td>\n",
       "      <td>1964-03-31</td>\n",
       "      <td>1964</td>\n",
       "      <td>1.0</td>\n",
       "      <td>12</td>\n",
       "      <td>INDL</td>\n",
       "      <td>C</td>\n",
       "      <td>D</td>\n",
       "      <td>STD</td>\n",
       "      <td>AAL</td>\n",
       "      <td>...</td>\n",
       "      <td>1964Q1</td>\n",
       "      <td>1964Q1</td>\n",
       "      <td>NaN</td>\n",
       "      <td>NaN</td>\n",
       "      <td>NaN</td>\n",
       "      <td>NaN</td>\n",
       "      <td>NaN</td>\n",
       "      <td>NaN</td>\n",
       "      <td>A</td>\n",
       "      <td>4512</td>\n",
       "    </tr>\n",
       "  </tbody>\n",
       "</table>\n",
       "<p>5 rows × 22 columns</p>\n",
       "</div>"
      ],
      "text/plain": [
       "   Global Company Key  Data Date  Fiscal Year  Fiscal Quarter  \\\n",
       "0                1045 1963-03-31         1963             1.0   \n",
       "1                1045 1963-06-30         1963             2.0   \n",
       "2                1045 1963-09-30         1963             3.0   \n",
       "3                1045 1963-12-31         1963             4.0   \n",
       "4                1045 1964-03-31         1964             1.0   \n",
       "\n",
       "   Fiscal Year-end Month Industry Format  \\\n",
       "0                     12            INDL   \n",
       "1                     12            INDL   \n",
       "2                     12            INDL   \n",
       "3                     12            INDL   \n",
       "4                     12            INDL   \n",
       "\n",
       "  Level of Consolidation - Company Interim Descriptor Population Source  \\\n",
       "0                                                  C                  D   \n",
       "1                                                  C                  D   \n",
       "2                                                  C                  D   \n",
       "3                                                  C                  D   \n",
       "4                                                  C                  D   \n",
       "\n",
       "  Data Format Ticker Symbol  ... Calendar Data Year and Quarter  \\\n",
       "0         STD           AAL  ...                         1963Q1   \n",
       "1         STD           AAL  ...                         1963Q2   \n",
       "2         STD           AAL  ...                         1963Q3   \n",
       "3         STD           AAL  ...                         1963Q4   \n",
       "4         STD           AAL  ...                         1964Q1   \n",
       "\n",
       "  Fiscal Data Year and Quarter Assets - Total  \\\n",
       "0                       1963Q1            NaN   \n",
       "1                       1963Q2            NaN   \n",
       "2                       1963Q3            NaN   \n",
       "3                       1963Q4            NaN   \n",
       "4                       1964Q1            NaN   \n",
       "\n",
       "  Invested Capital - Total - Quarterly  Net Income (Loss)  \\\n",
       "0                                  NaN                NaN   \n",
       "1                                  NaN                NaN   \n",
       "2                                  NaN                NaN   \n",
       "3                                  NaN                NaN   \n",
       "4                                  NaN                NaN   \n",
       "\n",
       "   Stockholders Equity - Total  Capital Expenditures  \\\n",
       "0                          NaN                   NaN   \n",
       "1                          NaN                   NaN   \n",
       "2                          NaN                   NaN   \n",
       "3                          NaN                   NaN   \n",
       "4                          NaN                   NaN   \n",
       "\n",
       "   Operating Activities - Net Cash Flow  Active/Inactive Status Marker  \\\n",
       "0                                   NaN                              A   \n",
       "1                                   NaN                              A   \n",
       "2                                   NaN                              A   \n",
       "3                                   NaN                              A   \n",
       "4                                   NaN                              A   \n",
       "\n",
       "   Standard Industry Classification Code  \n",
       "0                                   4512  \n",
       "1                                   4512  \n",
       "2                                   4512  \n",
       "3                                   4512  \n",
       "4                                   4512  \n",
       "\n",
       "[5 rows x 22 columns]"
      ]
     },
     "execution_count": 12,
     "metadata": {},
     "output_type": "execute_result"
    }
   ],
   "source": [
    "raw = pd.read_excel(\"../data/raw.xlsx\")\n",
    "raw.head()"
   ]
  },
  {
   "cell_type": "code",
   "execution_count": 13,
   "metadata": {},
   "outputs": [
    {
     "data": {
      "text/plain": [
       "Index(['Global Company Key', 'Data Date', 'Fiscal Year', 'Fiscal Quarter',\n",
       "       'Fiscal Year-end Month', 'Industry Format',\n",
       "       'Level of Consolidation - Company Interim Descriptor',\n",
       "       'Population Source', 'Data Format', 'Ticker Symbol', 'Company Name',\n",
       "       'ISO Currency Code', 'Calendar Data Year and Quarter',\n",
       "       'Fiscal Data Year and Quarter', 'Assets - Total',\n",
       "       'Invested Capital - Total - Quarterly', 'Net Income (Loss)',\n",
       "       'Stockholders Equity - Total', 'Capital Expenditures',\n",
       "       'Operating Activities - Net Cash Flow', 'Active/Inactive Status Marker',\n",
       "       'Standard Industry Classification Code'],\n",
       "      dtype='object')"
      ]
     },
     "execution_count": 13,
     "metadata": {},
     "output_type": "execute_result"
    }
   ],
   "source": [
    "raw.columns"
   ]
  },
  {
   "cell_type": "markdown",
   "metadata": {},
   "source": [
    "# functions"
   ]
  },
  {
   "cell_type": "code",
   "execution_count": 14,
   "metadata": {},
   "outputs": [],
   "source": [
    "def rmv_outliner(data, method=\"3sigma\", lo_q=0.01, hi_q=0.99, fill=\"delete\"):\n",
    "    '''\n",
    "    remove outliner\n",
    "    '''\n",
    "    if method == \"3sigma\":\n",
    "        _h = data.mean() + 3*data.std()\n",
    "        _l = data.mean() - 3*data.std()\n",
    "    elif method == \"quantile\":\n",
    "        q = data.quantile([lo_q, hi_q])\n",
    "        _l = q.iloc[0]\n",
    "        _h = q.iloc[1]\n",
    "\n",
    "    if fill == \"delete\":\n",
    "        for colname in data.columns:\n",
    "            data = data.copy()\n",
    "            data = data[(data[colname] < _h[colname]) &\n",
    "                        (data[colname] > _l[colname])]\n",
    "\n",
    "    return data"
   ]
  },
  {
   "cell_type": "code",
   "execution_count": 15,
   "metadata": {},
   "outputs": [
    {
     "name": "stderr",
     "output_type": "stream",
     "text": [
      "/Users/zhangzixin/opt/anaconda3/lib/python3.7/site-packages/pandas/core/frame.py:3607: SettingWithCopyWarning: \n",
      "A value is trying to be set on a copy of a slice from a DataFrame.\n",
      "Try using .loc[row_indexer,col_indexer] = value instead\n",
      "\n",
      "See the caveats in the documentation: https://pandas.pydata.org/pandas-docs/stable/user_guide/indexing.html#returning-a-view-versus-a-copy\n",
      "  self._set_item(key, value)\n"
     ]
    }
   ],
   "source": [
    "# average invested capital\n",
    "raw[\"pre_IC\"] = raw[\"Invested Capital - Total - Quarterly\"].shift()\n",
    "raw[\"ave_IC\"] = (\n",
    "    raw[\"Invested Capital - Total - Quarterly\"] + raw[\"pre_IC\"]) * 1/2\n",
    "\n",
    "# for companies which do not have Capital Expenditures: nan --> 0\n",
    "raw[raw['Capital Expenditures'] == np.nan] = 0\n",
    "raw[\"FCF\"] = raw['Operating Activities - Net Cash Flow'] - \\\n",
    "    raw['Capital Expenditures']\n",
    "\n",
    "raw[\"FCFROIC\"] = raw[\"FCF\"]/raw[\"ave_IC\"]\n",
    "\n",
    "# for those finance service companies\n",
    "raw[\"ave_equity\"] = (raw[\"Stockholders Equity - Total\"] +\n",
    "                     raw[\"Stockholders Equity - Total\"].shift()) * 1/2\n",
    "raw[\"ave_asset\"] = (raw['Assets - Total'] +\n",
    "                    raw['Assets - Total'].shift()) * 1/2\n",
    "\n",
    "raw[\"NI_chg\"] = raw[\"Net Income (Loss)\"].diff().copy()\n",
    "raw[raw[\"Fiscal Quarter\"] == 1][\"NI_chg\"] = raw[raw[\"Fiscal Quarter\"]\n",
    "                                                == 1][\"Net Income (Loss)\"]\n",
    "\n",
    "#####################################\n",
    "raw[\"NI_chg\"] = raw[\"NI_chg\"]*4\n",
    "raw[\"ROA\"] = raw[\"NI_chg\"]/raw[\"ave_asset\"]\n",
    "raw[\"ROE\"] = raw[\"NI_chg\"]/raw[\"ave_equity\"]"
   ]
  },
  {
   "cell_type": "code",
   "execution_count": 16,
   "metadata": {},
   "outputs": [],
   "source": [
    "# finance industry: SIC code 6000-6411\n",
    "raw['SIC'] = raw['Standard Industry Classification Code'].astype(int)\n",
    "raw[\"FCFROIC_ADJ\"] = raw[\"FCFROIC\"]\n",
    "raw[(raw['SIC'] >= 6000) & (raw[\"SIC\"] <= 6411)][\"FCFROIC_ADJ\"] = raw[(\n",
    "    raw['SIC'] >= 6000) & (raw[\"SIC\"] <= 6411)][\"ROE\"]"
   ]
  },
  {
   "cell_type": "code",
   "execution_count": 27,
   "metadata": {},
   "outputs": [
    {
     "data": {
      "text/plain": [
       "(184259, 34)"
      ]
     },
     "execution_count": 27,
     "metadata": {},
     "output_type": "execute_result"
    }
   ],
   "source": [
    "raw.shape"
   ]
  },
  {
   "cell_type": "code",
   "execution_count": 26,
   "metadata": {},
   "outputs": [
    {
     "data": {
      "text/html": [
       "<div>\n",
       "<style scoped>\n",
       "    .dataframe tbody tr th:only-of-type {\n",
       "        vertical-align: middle;\n",
       "    }\n",
       "\n",
       "    .dataframe tbody tr th {\n",
       "        vertical-align: top;\n",
       "    }\n",
       "\n",
       "    .dataframe thead th {\n",
       "        text-align: right;\n",
       "    }\n",
       "</style>\n",
       "<table border=\"1\" class=\"dataframe\">\n",
       "  <thead>\n",
       "    <tr style=\"text-align: right;\">\n",
       "      <th></th>\n",
       "      <th>filtered</th>\n",
       "    </tr>\n",
       "  </thead>\n",
       "  <tbody>\n",
       "    <tr>\n",
       "      <th>99</th>\n",
       "      <td>-0.069590</td>\n",
       "    </tr>\n",
       "    <tr>\n",
       "      <th>100</th>\n",
       "      <td>0.001069</td>\n",
       "    </tr>\n",
       "    <tr>\n",
       "      <th>101</th>\n",
       "      <td>0.053648</td>\n",
       "    </tr>\n",
       "    <tr>\n",
       "      <th>102</th>\n",
       "      <td>0.069135</td>\n",
       "    </tr>\n",
       "    <tr>\n",
       "      <th>103</th>\n",
       "      <td>0.068862</td>\n",
       "    </tr>\n",
       "    <tr>\n",
       "      <th>...</th>\n",
       "      <td>...</td>\n",
       "    </tr>\n",
       "    <tr>\n",
       "      <th>184254</th>\n",
       "      <td>0.004033</td>\n",
       "    </tr>\n",
       "    <tr>\n",
       "      <th>184255</th>\n",
       "      <td>0.006054</td>\n",
       "    </tr>\n",
       "    <tr>\n",
       "      <th>184256</th>\n",
       "      <td>0.030491</td>\n",
       "    </tr>\n",
       "    <tr>\n",
       "      <th>184257</th>\n",
       "      <td>-0.000528</td>\n",
       "    </tr>\n",
       "    <tr>\n",
       "      <th>184258</th>\n",
       "      <td>0.021652</td>\n",
       "    </tr>\n",
       "  </tbody>\n",
       "</table>\n",
       "<p>131639 rows × 1 columns</p>\n",
       "</div>"
      ],
      "text/plain": [
       "        filtered\n",
       "99     -0.069590\n",
       "100     0.001069\n",
       "101     0.053648\n",
       "102     0.069135\n",
       "103     0.068862\n",
       "...          ...\n",
       "184254  0.004033\n",
       "184255  0.006054\n",
       "184256  0.030491\n",
       "184257 -0.000528\n",
       "184258  0.021652\n",
       "\n",
       "[131639 rows x 1 columns]"
      ]
     },
     "execution_count": 26,
     "metadata": {},
     "output_type": "execute_result"
    }
   ],
   "source": [
    "clean = rmv_outliner(raw[[\"FCFROIC\"]])\n",
    "clean.columns = [\"filtered\"]\n",
    "clean"
   ]
  },
  {
   "cell_type": "code",
   "execution_count": 32,
   "metadata": {},
   "outputs": [
    {
     "data": {
      "text/plain": [
       "count    131639.000000\n",
       "mean          0.031370\n",
       "std           0.254861\n",
       "min         -16.554348\n",
       "25%          -0.011894\n",
       "50%           0.027660\n",
       "75%           0.077097\n",
       "max          13.474239\n",
       "Name: filtered, dtype: float64"
      ]
     },
     "execution_count": 32,
     "metadata": {},
     "output_type": "execute_result"
    }
   ],
   "source": [
    "raw.filtered.describe()"
   ]
  },
  {
   "cell_type": "code",
   "execution_count": 49,
   "metadata": {},
   "outputs": [],
   "source": [
    "grouped = raw.groupby('Global Company Key')\n",
    "FCFROIC_ADJ = pd.DataFrame(columns=[\"Global Company Key\", \"Data Date\",\n",
    "                                    \"Fiscal Year\", \"Fiscal Quarter\", 'Ticker Symbol', \"FCFROIC\",\n",
    "                                    \"ROA\", \"ROE\", \"FCFROIC_ADJ\", \"filtered\", \"avg_fcfroic\"])\n",
    "for group in grouped:\n",
    "    group = group[1].iloc[1:][[\"Global Company Key\", \"Data Date\",\n",
    "                               \"Fiscal Year\", \"Fiscal Quarter\", 'Ticker Symbol', \"FCFROIC\",\n",
    "                               \"ROA\", \"ROE\", \"FCFROIC_ADJ\"]].copy()\n",
    "    clean = rmv_outliner(group[[\"FCFROIC\"]])\n",
    "    # remove outliners\n",
    "    clean.columns = [\"filtered\"]\n",
    "    group = group.merge(clean, left_index=True, right_index=True, how=\"left\")\n",
    "    # 10y average                         \n",
    "    group[[\"avg_fcfroic\", \"avg_fcfroic_ajd\"]] = group[[\"FCFROIC_ADJ\", \"filtered\"]].rolling(40).mean().fillna(method=\"ffill\")\n",
    "    FCFROIC_ADJ = FCFROIC_ADJ.append(group, ignore_index=True)"
   ]
  },
  {
   "cell_type": "code",
   "execution_count": 50,
   "metadata": {},
   "outputs": [
    {
     "data": {
      "image/png": "[encoded data removed]",
      "text/plain": [
       "<Figure size 432x288 with 1 Axes>"
      ]
     },
     "metadata": {
      "needs_background": "light"
     },
     "output_type": "display_data"
    }
   ],
   "source": [
    "num = FCFROIC_ADJ[\"FCFROIC_ADJ\"]\n",
    "plt.hist(num, bins=np.arange(0, 1, 0.01))\n",
    "plt.title(\"FCFROIC hist\")\n",
    "plt.savefig(\"../plot/FCFROIC hist.png\")\n",
    "plt.show()"
   ]
  },
  {
   "cell_type": "code",
   "execution_count": 51,
   "metadata": {},
   "outputs": [
    {
     "data": {
      "text/html": [
       "<div>\n",
       "<style scoped>\n",
       "    .dataframe tbody tr th:only-of-type {\n",
       "        vertical-align: middle;\n",
       "    }\n",
       "\n",
       "    .dataframe tbody tr th {\n",
       "        vertical-align: top;\n",
       "    }\n",
       "\n",
       "    .dataframe thead th {\n",
       "        text-align: right;\n",
       "    }\n",
       "</style>\n",
       "<table border=\"1\" class=\"dataframe\">\n",
       "  <thead>\n",
       "    <tr style=\"text-align: right;\">\n",
       "      <th></th>\n",
       "      <th>FCFROIC_ADJ</th>\n",
       "    </tr>\n",
       "  </thead>\n",
       "  <tbody>\n",
       "    <tr>\n",
       "      <th>count</th>\n",
       "      <td>131628.000000</td>\n",
       "    </tr>\n",
       "    <tr>\n",
       "      <th>mean</th>\n",
       "      <td>0.043762</td>\n",
       "    </tr>\n",
       "    <tr>\n",
       "      <th>std</th>\n",
       "      <td>5.609486</td>\n",
       "    </tr>\n",
       "    <tr>\n",
       "      <th>min</th>\n",
       "      <td>-558.000000</td>\n",
       "    </tr>\n",
       "    <tr>\n",
       "      <th>25%</th>\n",
       "      <td>-0.011899</td>\n",
       "    </tr>\n",
       "    <tr>\n",
       "      <th>50%</th>\n",
       "      <td>0.027675</td>\n",
       "    </tr>\n",
       "    <tr>\n",
       "      <th>75%</th>\n",
       "      <td>0.077108</td>\n",
       "    </tr>\n",
       "    <tr>\n",
       "      <th>max</th>\n",
       "      <td>1943.333333</td>\n",
       "    </tr>\n",
       "  </tbody>\n",
       "</table>\n",
       "</div>"
      ],
      "text/plain": [
       "         FCFROIC_ADJ\n",
       "count  131628.000000\n",
       "mean        0.043762\n",
       "std         5.609486\n",
       "min      -558.000000\n",
       "25%        -0.011899\n",
       "50%         0.027675\n",
       "75%         0.077108\n",
       "max      1943.333333"
      ]
     },
     "execution_count": 51,
     "metadata": {},
     "output_type": "execute_result"
    }
   ],
   "source": [
    "num.describe().to_frame(\"FCFROIC_ADJ\")"
   ]
  },
  {
   "cell_type": "code",
   "execution_count": 52,
   "metadata": {},
   "outputs": [
    {
     "data": {
      "image/png": "[encoded data removed]",
      "text/plain": [
       "<Figure size 432x288 with 1 Axes>"
      ]
     },
     "metadata": {
      "needs_background": "light"
     },
     "output_type": "display_data"
    }
   ],
   "source": [
    "num = FCFROIC_ADJ[\"filtered\"]\n",
    "plt.hist(num, bins=np.arange(0, 1, 0.01))\n",
    "plt.title(\"FCFROIC hist\")\n",
    "plt.savefig(\"../plot/FCFROIC hist filtered.png\")\n",
    "plt.show()"
   ]
  },
  {
   "cell_type": "code",
   "execution_count": 53,
   "metadata": {},
   "outputs": [
    {
     "data": {
      "text/html": [
       "<div>\n",
       "<style scoped>\n",
       "    .dataframe tbody tr th:only-of-type {\n",
       "        vertical-align: middle;\n",
       "    }\n",
       "\n",
       "    .dataframe tbody tr th {\n",
       "        vertical-align: top;\n",
       "    }\n",
       "\n",
       "    .dataframe thead th {\n",
       "        text-align: right;\n",
       "    }\n",
       "</style>\n",
       "<table border=\"1\" class=\"dataframe\">\n",
       "  <thead>\n",
       "    <tr style=\"text-align: right;\">\n",
       "      <th></th>\n",
       "      <th>filtered</th>\n",
       "    </tr>\n",
       "  </thead>\n",
       "  <tbody>\n",
       "    <tr>\n",
       "      <th>count</th>\n",
       "      <td>130126.000000</td>\n",
       "    </tr>\n",
       "    <tr>\n",
       "      <th>mean</th>\n",
       "      <td>0.032316</td>\n",
       "    </tr>\n",
       "    <tr>\n",
       "      <th>std</th>\n",
       "      <td>0.269346</td>\n",
       "    </tr>\n",
       "    <tr>\n",
       "      <th>min</th>\n",
       "      <td>-21.500000</td>\n",
       "    </tr>\n",
       "    <tr>\n",
       "      <th>25%</th>\n",
       "      <td>-0.011351</td>\n",
       "    </tr>\n",
       "    <tr>\n",
       "      <th>50%</th>\n",
       "      <td>0.027612</td>\n",
       "    </tr>\n",
       "    <tr>\n",
       "      <th>75%</th>\n",
       "      <td>0.076154</td>\n",
       "    </tr>\n",
       "    <tr>\n",
       "      <th>max</th>\n",
       "      <td>50.715447</td>\n",
       "    </tr>\n",
       "  </tbody>\n",
       "</table>\n",
       "</div>"
      ],
      "text/plain": [
       "            filtered\n",
       "count  130126.000000\n",
       "mean        0.032316\n",
       "std         0.269346\n",
       "min       -21.500000\n",
       "25%        -0.011351\n",
       "50%         0.027612\n",
       "75%         0.076154\n",
       "max        50.715447"
      ]
     },
     "execution_count": 53,
     "metadata": {},
     "output_type": "execute_result"
    }
   ],
   "source": [
    "num.describe().to_frame(\"filtered\")"
   ]
  },
  {
   "cell_type": "code",
   "execution_count": 59,
   "metadata": {},
   "outputs": [
    {
     "data": {
      "text/html": [
       "<div>\n",
       "<style scoped>\n",
       "    .dataframe tbody tr th:only-of-type {\n",
       "        vertical-align: middle;\n",
       "    }\n",
       "\n",
       "    .dataframe tbody tr th {\n",
       "        vertical-align: top;\n",
       "    }\n",
       "\n",
       "    .dataframe thead th {\n",
       "        text-align: right;\n",
       "    }\n",
       "</style>\n",
       "<table border=\"1\" class=\"dataframe\">\n",
       "  <thead>\n",
       "    <tr style=\"text-align: right;\">\n",
       "      <th></th>\n",
       "      <th>filtered</th>\n",
       "      <th>avg_fcfroic_ajd</th>\n",
       "    </tr>\n",
       "  </thead>\n",
       "  <tbody>\n",
       "    <tr>\n",
       "      <th>count</th>\n",
       "      <td>130126.000000</td>\n",
       "      <td>63769.000000</td>\n",
       "    </tr>\n",
       "    <tr>\n",
       "      <th>mean</th>\n",
       "      <td>0.032316</td>\n",
       "      <td>0.038432</td>\n",
       "    </tr>\n",
       "    <tr>\n",
       "      <th>std</th>\n",
       "      <td>0.269346</td>\n",
       "      <td>0.091461</td>\n",
       "    </tr>\n",
       "    <tr>\n",
       "      <th>min</th>\n",
       "      <td>-21.500000</td>\n",
       "      <td>-0.460565</td>\n",
       "    </tr>\n",
       "    <tr>\n",
       "      <th>25%</th>\n",
       "      <td>-0.011351</td>\n",
       "      <td>0.005200</td>\n",
       "    </tr>\n",
       "    <tr>\n",
       "      <th>50%</th>\n",
       "      <td>0.027612</td>\n",
       "      <td>0.036391</td>\n",
       "    </tr>\n",
       "    <tr>\n",
       "      <th>75%</th>\n",
       "      <td>0.076154</td>\n",
       "      <td>0.065404</td>\n",
       "    </tr>\n",
       "    <tr>\n",
       "      <th>max</th>\n",
       "      <td>50.715447</td>\n",
       "      <td>2.674843</td>\n",
       "    </tr>\n",
       "  </tbody>\n",
       "</table>\n",
       "</div>"
      ],
      "text/plain": [
       "            filtered  avg_fcfroic_ajd\n",
       "count  130126.000000     63769.000000\n",
       "mean        0.032316         0.038432\n",
       "std         0.269346         0.091461\n",
       "min       -21.500000        -0.460565\n",
       "25%        -0.011351         0.005200\n",
       "50%         0.027612         0.036391\n",
       "75%         0.076154         0.065404\n",
       "max        50.715447         2.674843"
      ]
     },
     "execution_count": 59,
     "metadata": {},
     "output_type": "execute_result"
    }
   ],
   "source": [
    "FCFROIC_ADJ[[\"filtered\", \"avg_fcfroic_ajd\"]].describe()"
   ]
  },
  {
   "cell_type": "code",
   "execution_count": 56,
   "metadata": {},
   "outputs": [
    {
     "data": {
      "text/plain": [
       "<matplotlib.axes._subplots.AxesSubplot at 0x7fb4571a2190>"
      ]
     },
     "execution_count": 56,
     "metadata": {},
     "output_type": "execute_result"
    },
    {
     "data": {
      "image/png": "[encoded data removed]",
      "text/plain": [
       "<Figure size 432x288 with 1 Axes>"
      ]
     },
     "metadata": {
      "needs_background": "light"
     },
     "output_type": "display_data"
    }
   ],
   "source": [
    "his_mean = FCFROIC_ADJ.groupby(\"Data Date\").mean()\n",
    "his_mean[\"avg_fcfroic\"].dropna().plot()"
   ]
  },
  {
   "cell_type": "code",
   "execution_count": 58,
   "metadata": {},
   "outputs": [
    {
     "data": {
      "text/plain": [
       "<matplotlib.axes._subplots.AxesSubplot at 0x7fb420944b10>"
      ]
     },
     "execution_count": 58,
     "metadata": {},
     "output_type": "execute_result"
    },
    {
     "data": {
      "image/png": "[encoded data removed]",
      "text/plain": [
       "<Figure size 432x288 with 1 Axes>"
      ]
     },
     "metadata": {
      "needs_background": "light"
     },
     "output_type": "display_data"
    }
   ],
   "source": [
    "his_num = FCFROIC_ADJ.groupby(\"Data Date\").count()\n",
    "his_num[\"Global Company Key\"].dropna().plot()"
   ]
  },
  {
   "cell_type": "code",
   "execution_count": 60,
   "metadata": {},
   "outputs": [],
   "source": [
    "FCFROIC_ADJ.to_excel(\"../clean_data/FCFROIC_ADJ_1110.xlsx\")"
   ]
  },
  {
   "cell_type": "code",
   "execution_count": null,
   "metadata": {},
   "outputs": [],
   "source": []
  }
 ],
 "metadata": {
  "kernelspec": {
   "display_name": "Python 3.7.4 ('base')",
   "language": "python",
   "name": "python3"
  },
  "language_info": {
   "codemirror_mode": {
    "name": "ipython",
    "version": 3
   },
   "file_extension": ".py",
   "mimetype": "text/x-python",
   "name": "python",
   "nbconvert_exporter": "python",
   "pygments_lexer": "ipython3",
   "version": "3.7.4"
  },
  "orig_nbformat": 4,
  "vscode": {
   "interpreter": {
    "hash": "8aba7c7331238ad8bef3d07aa03cf759b24ea56e2341769d4c660500293a6aca"
   }
  }
 },
 "nbformat": 4,
 "nbformat_minor": 2
}
